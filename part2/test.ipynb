{
 "cells": [
  {
   "cell_type": "code",
   "execution_count": null,
   "metadata": {},
   "outputs": [],
   "source": [
    "import torch\n",
    "from skimage import io, transform\n",
    "import numpy as np\n",
    "import matplotlib.pyplot as plt\n",
    "from torch.utils.data import Dataset, DataLoader\n",
    "import torch.nn as nn\n",
    "\n",
    "import os\n",
    "\n",
    "# from main import *\n",
    "\n",
    "%load_ext autoreload\n",
    "%autoreload 2"
   ]
  },
  {
   "cell_type": "code",
   "execution_count": null,
   "metadata": {},
   "outputs": [],
   "source": [
    "data = np.load(f\"lego_200x200.npz\")\n",
    "\n",
    "# Training images: [100, 200, 200, 3]\n",
    "images_train = data[\"images_train\"] / 255.0\n",
    "\n",
    "# Cameras for the training images \n",
    "# (camera-to-world transformation matrix): [100, 4, 4]\n",
    "c2ws_train = data[\"c2ws_train\"]\n",
    "\n",
    "# Validation images: \n",
    "images_val = data[\"images_val\"] / 255.0\n",
    "\n",
    "# Cameras for the validation images: [10, 4, 4]\n",
    "# (camera-to-world transformation matrix): [10, 200, 200, 3]\n",
    "c2ws_val = data[\"c2ws_val\"]\n",
    "\n",
    "# Test cameras for novel-view video rendering: \n",
    "# (camera-to-world transformation matrix): [60, 4, 4]\n",
    "c2ws_test = data[\"c2ws_test\"]\n",
    "\n",
    "# Camera focal length\n",
    "focal = data[\"focal\"]  # float"
   ]
  }
 ],
 "metadata": {
  "language_info": {
   "name": "python"
  }
 },
 "nbformat": 4,
 "nbformat_minor": 2
}
